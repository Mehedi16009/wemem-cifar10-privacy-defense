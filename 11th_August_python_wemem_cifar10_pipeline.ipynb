{
  "nbformat": 4,
  "nbformat_minor": 0,
  "metadata": {
    "colab": {
      "provenance": [],
      "gpuType": "T4",
      "authorship_tag": "ABX9TyPQ39+LBnZUfd3LKsWnXTtW",
      "include_colab_link": true
    },
    "kernelspec": {
      "name": "python3",
      "display_name": "Python 3"
    },
    "language_info": {
      "name": "python"
    },
    "accelerator": "GPU"
  },
  "cells": [
    {
      "cell_type": "markdown",
      "metadata": {
        "id": "view-in-github",
        "colab_type": "text"
      },
      "source": [
        "<a href=\"https://colab.research.google.com/github/Mehedi16009/wemem-cifar10-privacy-defense/blob/main/11th_August_python_wemem_cifar10_pipeline.ipynb\" target=\"_parent\"><img src=\"https://colab.research.google.com/assets/colab-badge.svg\" alt=\"Open In Colab\"/></a>"
      ]
    },
    {
      "cell_type": "code",
      "execution_count": 1,
      "metadata": {
        "colab": {
          "base_uri": "https://localhost:8080/"
        },
        "id": "ry1srzCOeSKV",
        "outputId": "2cde0d94-56f7-4795-a9ac-88237504ab16"
      },
      "outputs": [
        {
          "output_type": "stream",
          "name": "stdout",
          "text": [
            "Mounted at /content/drive\n",
            "Using device: cuda\n"
          ]
        }
      ],
      "source": [
        "# @title Step 1 — Install, imports, mount Google Drive\n",
        "# (Optional) !pip install -U some-package  # not needed for this notebook\n",
        "\n",
        "import os, copy, time, math, random, json\n",
        "from pathlib import Path\n",
        "from tqdm import tqdm\n",
        "import numpy as np\n",
        "import matplotlib.pyplot as plt\n",
        "\n",
        "import torch\n",
        "import torch.nn as nn\n",
        "import torch.optim as optim\n",
        "import torch.nn.utils.prune as prune\n",
        "from torch.optim.lr_scheduler import MultiStepLR\n",
        "from torchvision import transforms, models\n",
        "from torchvision.datasets import CIFAR10\n",
        "from torch.utils.data import DataLoader, Dataset, Subset\n",
        "\n",
        "# Mount Google Drive (Colab)\n",
        "from google.colab import drive\n",
        "drive.mount('/content/drive', force_remount=True)\n",
        "\n",
        "# reproducibility (best-effort)\n",
        "seed = 42\n",
        "random.seed(seed); np.random.seed(seed); torch.manual_seed(seed)\n",
        "\n",
        "torch.backends.cudnn.benchmark = True\n",
        "\n",
        "# device\n",
        "device = torch.device(\"cuda\" if torch.cuda.is_available() else \"cpu\")\n",
        "print(\"Using device:\", device)\n"
      ]
    },
    {
      "cell_type": "code",
      "source": [
        "# @title Step 2 — Paths & hyperparameters (edit these if you want to tune)\n",
        "\n",
        "# Path where your \"cifar-10-batches-py\" folder is located in Drive.\n",
        "# By default this notebook expects: /content/drive/MyDrive/cifar-10-batches-py\n",
        "DRIVE_CIFAR_DIR = \"/content/drive/MyDrive/cifar-10-batches-py\"  # <-- change if needed\n",
        "OUT_DIR = \"/content/drive/MyDrive/wemem_results\"\n",
        "os.makedirs(OUT_DIR, exist_ok=True)\n",
        "\n",
        "# Hyperparameters (demo-friendly defaults)\n",
        "batch_size = 128\n",
        "num_classes = 10\n",
        "\n",
        "# Baseline training\n",
        "base_epochs = 30          # increase to 100+ for final experiments\n",
        "patience = 6              # early stopping\n",
        "\n",
        "# Iterative pruning\n",
        "prune_iterations = 5\n",
        "prune_fraction_per_iter = 0.17\n",
        "prune_finetune_epochs = 10\n",
        "\n",
        "# memorization score (K-submodel)\n",
        "K_submodels = 5\n",
        "submodel_epochs = 3       # increase for stronger mem estimates\n",
        "\n",
        "# WEMEM hyperparams\n",
        "tau = 0.5\n",
        "lambda_r = 1e-3\n",
        "lambda_g = 1e-4\n",
        "\n",
        "# LiRA demo params (VERY heavy for large values)\n",
        "lira_num_targets = 20\n",
        "lira_shadows_per_side = 4\n",
        "lira_shadow_train_size = 5000   # smaller for demo\n",
        "lira_shadow_epochs = 2\n",
        "\n",
        "print(\"OUT_DIR:\", OUT_DIR)\n",
        "print(\"Drive CIFAR folder exists:\", os.path.isdir(DRIVE_CIFAR_DIR))\n"
      ],
      "metadata": {
        "colab": {
          "base_uri": "https://localhost:8080/"
        },
        "id": "-kPgMUMbeVLW",
        "outputId": "591c62fd-c6af-4566-bafd-d4a11461eff1"
      },
      "execution_count": 2,
      "outputs": [
        {
          "output_type": "stream",
          "name": "stdout",
          "text": [
            "OUT_DIR: /content/drive/MyDrive/wemem_results\n",
            "Drive CIFAR folder exists: True\n"
          ]
        }
      ]
    },
    {
      "cell_type": "code",
      "source": [
        "# @title Step 3 — Data transforms & load CIFAR-10 from Drive\n",
        "# torchvision will locate the folder \"cifar-10-batches-py\" inside the provided parent root.\n",
        "\n",
        "# Standard CIFAR-10 normalization\n",
        "CIFAR_MEAN = (0.4914, 0.4822, 0.4465)\n",
        "CIFAR_STD  = (0.2023, 0.1994, 0.2010)\n",
        "\n",
        "transform_train = transforms.Compose([\n",
        "    transforms.RandomCrop(32, padding=4),\n",
        "    transforms.RandomHorizontalFlip(),\n",
        "    transforms.ToTensor(),\n",
        "    transforms.Normalize(CIFAR_MEAN, CIFAR_STD)\n",
        "])\n",
        "\n",
        "transform_eval = transforms.Compose([\n",
        "    transforms.ToTensor(),\n",
        "    transforms.Normalize(CIFAR_MEAN, CIFAR_STD)\n",
        "])\n",
        "\n",
        "if not os.path.isdir(DRIVE_CIFAR_DIR):\n",
        "    raise FileNotFoundError(f\"Folder not found at {DRIVE_CIFAR_DIR}. Put the CIFAR folder in Drive and re-run Step 1/2.\")\n",
        "\n",
        "root_parent = str(Path(DRIVE_CIFAR_DIR).parent)\n",
        "\n",
        "# two dataset objects: one with augmentation (for training), one deterministic (for evaluation / mem-scores)\n",
        "full_train_aug = CIFAR10(root=root_parent, train=True, transform=transform_train, download=False)\n",
        "full_train_eval = CIFAR10(root=root_parent, train=True, transform=transform_eval, download=False)\n",
        "testset = CIFAR10(root=root_parent, train=False, transform=transform_eval, download=False)\n",
        "\n",
        "print(\"Loaded CIFAR-10 datasets. Total train examples:\", len(full_train_aug))\n"
      ],
      "metadata": {
        "colab": {
          "base_uri": "https://localhost:8080/"
        },
        "id": "3Ix65r7WeVM-",
        "outputId": "a82215b7-c9a3-4211-bae9-87e446d9ef2d"
      },
      "execution_count": 3,
      "outputs": [
        {
          "output_type": "stream",
          "name": "stdout",
          "text": [
            "Loaded CIFAR-10 datasets. Total train examples: 50000\n"
          ]
        }
      ]
    },
    {
      "cell_type": "code",
      "source": [
        "# @title Step 4 — Train/Val split and DataLoaders\n",
        "# Step 4: split train (50k) -> train (45k) + val (5k); create DataLoaders\n",
        "N_total = len(full_train_aug)\n",
        "assert N_total == 50000\n",
        "\n",
        "all_indices = list(range(N_total))\n",
        "random.shuffle(all_indices)\n",
        "val_indices = all_indices[:5000]\n",
        "train_indices = all_indices[5000:]\n",
        "\n",
        "# Subsets and loaders\n",
        "trainset = Subset(full_train_aug, train_indices)        # augmented training\n",
        "valset = Subset(full_train_eval, val_indices)           # deterministic val\n",
        "testloader = DataLoader(testset, batch_size=batch_size, shuffle=False, num_workers=2, pin_memory=True)\n",
        "trainloader = DataLoader(trainset, batch_size=batch_size, shuffle=True, num_workers=2, pin_memory=True)\n",
        "valloader = DataLoader(valset, batch_size=batch_size, shuffle=False, num_workers=2, pin_memory=True)\n",
        "\n",
        "print(\"Train/Val/Test sizes:\", len(trainset), len(valset), len(testset))\n"
      ],
      "metadata": {
        "colab": {
          "base_uri": "https://localhost:8080/"
        },
        "id": "6mkhE1AueVO1",
        "outputId": "47a662b9-5a11-4e7a-fe52-63044003a169"
      },
      "execution_count": 4,
      "outputs": [
        {
          "output_type": "stream",
          "name": "stdout",
          "text": [
            "Train/Val/Test sizes: 45000 5000 10000\n"
          ]
        }
      ]
    },
    {
      "cell_type": "code",
      "source": [
        "# @title Step 5 — Helper classes & model factory (IndexedSubset, evaluation, training loops)\n",
        "# Step 5: helper classes & train/eval functions\n",
        "\n",
        "# IndexedSubset returns (x, y, global_index) — used for mem-scores and adaptive regularization\n",
        "class IndexedSubset(Dataset):\n",
        "    def __init__(self, base_dataset, indices):\n",
        "        self.dataset = base_dataset\n",
        "        self.indices = list(indices)\n",
        "    def __len__(self):\n",
        "        return len(self.indices)\n",
        "    def __getitem__(self, idx):\n",
        "        gidx = self.indices[idx]\n",
        "        x, y = self.dataset[gidx]\n",
        "        return x, y, gidx\n",
        "\n",
        "# model factory\n",
        "def get_resnet18():\n",
        "    model = models.resnet18(pretrained=False)\n",
        "    model.fc = nn.Linear(model.fc.in_features, num_classes)\n",
        "    return model.to(device)\n",
        "\n",
        "# evaluation helper\n",
        "def evaluate(model, loader):\n",
        "    model.eval()\n",
        "    correct = total = 0\n",
        "    loss_list = []\n",
        "    criterion = nn.CrossEntropyLoss()\n",
        "    with torch.no_grad():\n",
        "        for batch in loader:\n",
        "            if len(batch) == 3:\n",
        "                inputs, labels, _ = batch\n",
        "            else:\n",
        "                inputs, labels = batch\n",
        "            inputs, labels = inputs.to(device), labels.to(device)\n",
        "            out = model(inputs)\n",
        "            loss_list.append(criterion(out, labels).item())\n",
        "            preds = out.argmax(dim=1)\n",
        "            correct += (preds == labels).sum().item()\n",
        "            total += labels.size(0)\n",
        "    return correct/total, float(np.mean(loss_list) if loss_list else 0.0)\n",
        "\n",
        "# basic training with early stopping\n",
        "def train_with_early_stopping(model, train_loader, val_loader, epochs=50, init_lr=0.1,\n",
        "                              weight_decay=5e-4, patience=6, scheduler_milestones=None):\n",
        "    model = model.to(device)\n",
        "    criterion = nn.CrossEntropyLoss()\n",
        "    optimizer = optim.SGD(model.parameters(), lr=init_lr, momentum=0.9, weight_decay=weight_decay)\n",
        "    if scheduler_milestones is None:\n",
        "        scheduler_milestones = [int(0.5*epochs), int(0.75*epochs)]\n",
        "    scheduler = MultiStepLR(optimizer, milestones=scheduler_milestones, gamma=0.1)\n",
        "\n",
        "    best_acc = 0.0\n",
        "    best_wts = copy.deepcopy(model.state_dict())\n",
        "    no_improve = 0\n",
        "\n",
        "    for epoch in range(epochs):\n",
        "        model.train()\n",
        "        for batch in train_loader:\n",
        "            if len(batch) == 3:\n",
        "                inputs, labels, _ = batch\n",
        "            else:\n",
        "                inputs, labels = batch\n",
        "            inputs, labels = inputs.to(device), labels.to(device)\n",
        "            optimizer.zero_grad()\n",
        "            out = model(inputs)\n",
        "            loss = criterion(out, labels)\n",
        "            loss.backward()\n",
        "            optimizer.step()\n",
        "        scheduler.step()\n",
        "        val_acc, val_loss = evaluate(model, val_loader)\n",
        "        if val_acc > best_acc + 1e-6:\n",
        "            best_acc = val_acc\n",
        "            best_wts = copy.deepcopy(model.state_dict())\n",
        "            no_improve = 0\n",
        "        else:\n",
        "            no_improve += 1\n",
        "            if no_improve >= patience:\n",
        "                print(f\"Early stopping @ epoch {epoch+1}. Best val acc = {best_acc:.4f}\")\n",
        "                break\n",
        "        if (epoch+1) % 5 == 0 or epoch == 0:\n",
        "            print(f\"Epoch {epoch+1}/{epochs} val_acc={val_acc:.4f} val_loss={val_loss:.4f}\")\n",
        "    model.load_state_dict(best_wts)\n",
        "    return model\n"
      ],
      "metadata": {
        "id": "u7o4iHJleVQs"
      },
      "execution_count": 5,
      "outputs": []
    },
    {
      "cell_type": "code",
      "source": [
        "# @title Step 6 — Train baseline ResNet-18\n",
        "# Step 6: train baseline ResNet-18 (this may take ~minutes depending on epochs)\n",
        "print(\"Training baseline ResNet-18 ...\")\n",
        "base_model = get_resnet18()\n",
        "base_model = train_with_early_stopping(base_model, trainloader, valloader, epochs=base_epochs, init_lr=0.1, patience=patience)\n",
        "base_test_acc, _ = evaluate(base_model, testloader)\n",
        "print(\"Baseline test accuracy:\", base_test_acc)\n",
        "torch.save(base_model.state_dict(), os.path.join(OUT_DIR, \"base_resnet18.pth\"))\n"
      ],
      "metadata": {
        "colab": {
          "base_uri": "https://localhost:8080/"
        },
        "id": "lcH7VL6-eVSf",
        "outputId": "40e46110-fd18-4893-abf9-2db7778eb3f9"
      },
      "execution_count": 6,
      "outputs": [
        {
          "output_type": "stream",
          "name": "stdout",
          "text": [
            "Training baseline ResNet-18 ...\n"
          ]
        },
        {
          "output_type": "stream",
          "name": "stderr",
          "text": [
            "/usr/local/lib/python3.11/dist-packages/torchvision/models/_utils.py:208: UserWarning: The parameter 'pretrained' is deprecated since 0.13 and may be removed in the future, please use 'weights' instead.\n",
            "  warnings.warn(\n",
            "/usr/local/lib/python3.11/dist-packages/torchvision/models/_utils.py:223: UserWarning: Arguments other than a weight enum or `None` for 'weights' are deprecated since 0.13 and may be removed in the future. The current behavior is equivalent to passing `weights=None`.\n",
            "  warnings.warn(msg)\n"
          ]
        },
        {
          "output_type": "stream",
          "name": "stdout",
          "text": [
            "Epoch 1/30 val_acc=0.4118 val_loss=1.6246\n",
            "Epoch 5/30 val_acc=0.6578 val_loss=0.9593\n",
            "Epoch 10/30 val_acc=0.7184 val_loss=0.8163\n",
            "Epoch 15/30 val_acc=0.7218 val_loss=0.8152\n",
            "Epoch 20/30 val_acc=0.8278 val_loss=0.5159\n",
            "Epoch 25/30 val_acc=0.8400 val_loss=0.4825\n",
            "Epoch 30/30 val_acc=0.8416 val_loss=0.4795\n",
            "Baseline test accuracy: 0.8313\n"
          ]
        }
      ]
    },
    {
      "cell_type": "code",
      "source": [
        "# @title Step 7 — Iterative global L1 pruning + fine-tuning\n",
        "# Step 7: iterative unstructured pruning (global L1) + fine-tuning\n",
        "def iterative_prune_and_finetune(model, train_loader, val_loader, iterations=5, amount_each=0.17, finetune_epochs=10):\n",
        "    pruned = copy.deepcopy(model)\n",
        "    parameters_to_prune = []\n",
        "    for name, m in pruned.named_modules():\n",
        "        if isinstance(m, (nn.Conv2d, nn.Linear)):\n",
        "            parameters_to_prune.append((m, 'weight'))\n",
        "    history = []\n",
        "    for it in range(iterations):\n",
        "        print(f\"\\nPruning iteration {it+1}/{iterations}: removing fraction {amount_each}\")\n",
        "        prune.global_unstructured(parameters_to_prune, pruning_method=prune.L1Unstructured, amount=amount_each)\n",
        "        # make pruning permanent\n",
        "        for (m, pname) in parameters_to_prune:\n",
        "            prune.remove(m, pname)\n",
        "        # fine-tune after pruning\n",
        "        pruned = train_with_early_stopping(pruned, train_loader, val_loader, epochs=finetune_epochs, init_lr=0.01, patience=3)\n",
        "        # compute sparsity\n",
        "        total_w = zero_w = 0\n",
        "        for n,p in pruned.named_parameters():\n",
        "            if 'weight' in n:\n",
        "                total_w += p.numel()\n",
        "                zero_w += (p==0).sum().item()\n",
        "        sparsity = 100.0 * zero_w / total_w\n",
        "        test_acc, _ = evaluate(pruned, testloader)\n",
        "        print(f\"End of iter {it+1}: sparsity={sparsity:.2f}% test_acc={test_acc:.4f}\")\n",
        "        history.append({'iter': it+1, 'sparsity': float(sparsity), 'test_acc': float(test_acc)})\n",
        "    return pruned, history\n",
        "\n",
        "print(\"Running iterative pruning + finetuning ...\")\n",
        "pruned_model, prune_history = iterative_prune_and_finetune(base_model, trainloader, valloader,\n",
        "                                                          iterations=prune_iterations, amount_each=prune_fraction_per_iter,\n",
        "                                                          finetune_epochs=prune_finetune_epochs)\n",
        "torch.save(pruned_model.state_dict(), os.path.join(OUT_DIR, \"pruned_model.pth\"))\n",
        "print(\"Pruning history:\", prune_history)\n"
      ],
      "metadata": {
        "colab": {
          "base_uri": "https://localhost:8080/"
        },
        "id": "COYEWz7reVUk",
        "outputId": "a0cbebf1-bd61-4b50-c228-b57ac8740183"
      },
      "execution_count": 7,
      "outputs": [
        {
          "output_type": "stream",
          "name": "stdout",
          "text": [
            "Running iterative pruning + finetuning ...\n",
            "\n",
            "Pruning iteration 1/5: removing fraction 0.17\n",
            "Epoch 1/10 val_acc=0.8348 val_loss=0.5035\n",
            "Early stopping @ epoch 5. Best val acc = 0.8384\n",
            "End of iter 1: sparsity=13.96% test_acc=0.8267\n",
            "\n",
            "Pruning iteration 2/5: removing fraction 0.17\n",
            "Epoch 1/10 val_acc=0.8324 val_loss=0.5091\n",
            "Epoch 5/10 val_acc=0.8304 val_loss=0.5069\n",
            "Epoch 10/10 val_acc=0.8496 val_loss=0.4718\n",
            "End of iter 2: sparsity=13.95% test_acc=0.8420\n",
            "\n",
            "Pruning iteration 3/5: removing fraction 0.17\n",
            "Epoch 1/10 val_acc=0.8278 val_loss=0.5295\n",
            "Epoch 5/10 val_acc=0.8302 val_loss=0.5327\n",
            "Epoch 10/10 val_acc=0.8558 val_loss=0.4598\n",
            "End of iter 3: sparsity=13.95% test_acc=0.8452\n",
            "\n",
            "Pruning iteration 4/5: removing fraction 0.17\n",
            "Epoch 1/10 val_acc=0.8348 val_loss=0.5385\n",
            "Epoch 5/10 val_acc=0.8378 val_loss=0.5210\n",
            "Epoch 10/10 val_acc=0.8582 val_loss=0.4576\n",
            "End of iter 4: sparsity=13.95% test_acc=0.8463\n",
            "\n",
            "Pruning iteration 5/5: removing fraction 0.17\n",
            "Epoch 1/10 val_acc=0.8422 val_loss=0.5056\n",
            "Early stopping @ epoch 4. Best val acc = 0.8422\n",
            "End of iter 5: sparsity=13.96% test_acc=0.8253\n",
            "Pruning history: [{'iter': 1, 'sparsity': 13.95644132433949, 'test_acc': 0.8267}, {'iter': 2, 'sparsity': 13.95001732154514, 'test_acc': 0.842}, {'iter': 3, 'sparsity': 13.951090971037232, 'test_acc': 0.8452}, {'iter': 4, 'sparsity': 13.950124686494348, 'test_acc': 0.8463}, {'iter': 5, 'sparsity': 13.956647107158808, 'test_acc': 0.8253}]\n"
          ]
        }
      ]
    },
    {
      "cell_type": "code",
      "source": [
        "# @title Step 8 — Compute memorization scores (K-submodel Bayesian approximation)\n",
        "# Step 8: compute mem-scores using K disjoint submodels trained on parts of the train pool\n",
        "print(\"Computing memorization scores (K-submodel approx) ...\")\n",
        "\n",
        "def compute_mem_scores(full_dataset_eval, train_pool_indices, K=5, epochs_per_sub=3):\n",
        "    N = len(full_dataset_eval)  # 50000\n",
        "    mem_scores = np.zeros(N, dtype=np.float32)\n",
        "    # partition train pool into K disjoint subsets\n",
        "    pool = train_pool_indices.copy()\n",
        "    random.shuffle(pool)\n",
        "    subsets = np.array_split(pool, K)\n",
        "    print(\"Subset sizes:\", [len(s) for s in subsets])\n",
        "    # train K submodels\n",
        "    submodels = []\n",
        "    for i in range(K):\n",
        "        print(f\"Training submodel {i+1}/{K} ...\")\n",
        "        loader = DataLoader(IndexedSubset(full_dataset_eval, subsets[i]), batch_size=batch_size, shuffle=True, num_workers=2)\n",
        "        m = get_resnet18()\n",
        "        opt = optim.SGD(m.parameters(), lr=0.1, momentum=0.9, weight_decay=5e-4)\n",
        "        criterion = nn.CrossEntropyLoss()\n",
        "        m.train()\n",
        "        for ep in range(epochs_per_sub):\n",
        "            for xb, yb, _ in loader:\n",
        "                xb, yb = xb.to(device), yb.to(device)\n",
        "                opt.zero_grad()\n",
        "                out = m(xb)\n",
        "                loss = criterion(out, yb)\n",
        "                loss.backward()\n",
        "                opt.step()\n",
        "        m.eval()\n",
        "        submodels.append(m)\n",
        "    # map global idx -> subset id (-1 if not in any subset)\n",
        "    global_to_subset = -1 * np.ones(N, dtype=int)\n",
        "    for sid, subset in enumerate(subsets):\n",
        "        for g in subset:\n",
        "            global_to_subset[g] = sid\n",
        "    # evaluate submodels on full dataset in batches and compute mem-scores\n",
        "    full_loader = DataLoader(full_dataset_eval, batch_size=batch_size, shuffle=False, num_workers=2)\n",
        "    soft = nn.Softmax(dim=1)\n",
        "    ptr = 0\n",
        "    with torch.no_grad():\n",
        "        for xb, yb in tqdm(full_loader, desc=\"mem compute\"):\n",
        "            xb, yb = xb.to(device), yb.to(device)\n",
        "            b = yb.size(0)\n",
        "            # collect probs for all submodels on this batch\n",
        "            probs = torch.zeros((b, K, num_classes), device=device)\n",
        "            for j, m in enumerate(submodels):\n",
        "                out = m(xb)\n",
        "                probs[:, j, :] = soft(out)\n",
        "            # for each sample in batch\n",
        "            for bi in range(b):\n",
        "                g = ptr + bi\n",
        "                sid = int(global_to_subset[g])\n",
        "                if sid < 0:\n",
        "                    mem_scores[g] = 0.0\n",
        "                else:\n",
        "                    label = int(yb[bi].item())\n",
        "                    p_in = float(probs[bi, sid, label].item())\n",
        "                    others = [jj for jj in range(K) if jj != sid]\n",
        "                    p_out = float(probs[bi, others, label].mean().item()) if others else 0.0\n",
        "                    mem_scores[g] = p_in - p_out\n",
        "            ptr += b\n",
        "    return mem_scores\n",
        "\n",
        "mem_scores_raw = compute_mem_scores(full_train_eval, train_indices, K=K_submodels, epochs_per_sub=submodel_epochs)\n",
        "# Normalize mem-scores to [0,1]\n",
        "minv, maxv = float(mem_scores_raw.min()), float(mem_scores_raw.max())\n",
        "if maxv - minv > 1e-12:\n",
        "    mem_scores = (mem_scores_raw - minv) / (maxv - minv)\n",
        "else:\n",
        "    mem_scores = mem_scores_raw.copy()\n",
        "np.save(os.path.join(OUT_DIR, \"mem_scores.npy\"), mem_scores)\n",
        "print(\"Mem-scores saved. stats:\", mem_scores.min(), mem_scores.mean(), mem_scores.max())\n"
      ],
      "metadata": {
        "colab": {
          "base_uri": "https://localhost:8080/"
        },
        "id": "4kCReqU7eVWc",
        "outputId": "0a981d81-3e42-40b0-a115-080f14081c92"
      },
      "execution_count": 8,
      "outputs": [
        {
          "output_type": "stream",
          "name": "stdout",
          "text": [
            "Computing memorization scores (K-submodel approx) ...\n",
            "Subset sizes: [9000, 9000, 9000, 9000, 9000]\n",
            "Training submodel 1/5 ...\n",
            "Training submodel 2/5 ...\n",
            "Training submodel 3/5 ...\n",
            "Training submodel 4/5 ...\n",
            "Training submodel 5/5 ...\n"
          ]
        },
        {
          "output_type": "stream",
          "name": "stderr",
          "text": [
            "mem compute: 100%|██████████| 391/391 [00:23<00:00, 16.86it/s]"
          ]
        },
        {
          "output_type": "stream",
          "name": "stdout",
          "text": [
            "Mem-scores saved. stats: 0.0 0.44998515 1.0\n"
          ]
        },
        {
          "output_type": "stream",
          "name": "stderr",
          "text": [
            "\n"
          ]
        }
      ]
    },
    {
      "cell_type": "code",
      "source": [
        "# @title Step 9 — Implement WEMEM defenses: RSW, RMR, SWMR (fine‑tune pruned model)\n",
        "# Step 9: implement RSW, RMR, SWMR (fine-tune pruned model with each defense)\n",
        "\n",
        "# Sliding window sampler for RSW and SWMR\n",
        "class SlidingWindowSampler:\n",
        "    def __init__(self, sorted_indices, window_width, step):\n",
        "        self.sorted_indices = np.array(sorted_indices)\n",
        "        self.win = int(window_width)\n",
        "        self.step = int(step)\n",
        "        self.N = len(self.sorted_indices)\n",
        "        assert self.win <= self.N\n",
        "    def get_indices_for_epoch(self, epoch):\n",
        "        start = (epoch * self.step) % (self.N - self.win + 1)\n",
        "        return self.sorted_indices[start: start + self.win].tolist()\n",
        "\n",
        "# train_with_adaptive_l2 (used by RMR and SWMR)\n",
        "def train_with_adaptive_l2(model, indices_pool, base_dataset_eval, mem_scores_arr,\n",
        "                           epochs=5, window_sampler=None, tau=0.5, lambda_r=1e-3, lambda_g=1e-4, init_lr=0.01):\n",
        "    model = model.to(device)\n",
        "    criterion = nn.CrossEntropyLoss()\n",
        "    optimizer = optim.SGD(model.parameters(), lr=init_lr, momentum=0.9, weight_decay=0.0)\n",
        "    scheduler = MultiStepLR(optimizer, milestones=[int(0.5*epochs)], gamma=0.1)\n",
        "    for epoch in range(epochs):\n",
        "        model.train()\n",
        "        if window_sampler is None:\n",
        "            epoch_indices = indices_pool\n",
        "        else:\n",
        "            epoch_indices = window_sampler.get_indices_for_epoch(epoch)\n",
        "        loader = DataLoader(IndexedSubset(base_dataset_eval, epoch_indices), batch_size=batch_size, shuffle=True, num_workers=2)\n",
        "        for xb, yb, gidx in loader:\n",
        "            xb, yb = xb.to(device), yb.to(device)\n",
        "            optimizer.zero_grad()\n",
        "            out = model(xb)\n",
        "            base_loss = criterion(out, yb)\n",
        "            # L2 norm across weights\n",
        "            l2 = torch.tensor(0., device=device)\n",
        "            for p in model.parameters():\n",
        "                l2 = l2 + (p**2).sum()\n",
        "            # compute fraction of high-risk in batch\n",
        "            mask = mem_scores_arr[gidx.numpy()] >= tau\n",
        "            mask_mean = float(mask.mean()) if len(mask)>0 else 0.0\n",
        "            lam = mask_mean * lambda_r + (1.0 - mask_mean) * lambda_g\n",
        "            loss = base_loss + lam * l2\n",
        "            loss.backward()\n",
        "            optimizer.step()\n",
        "        scheduler.step()\n",
        "        if (epoch+1) % 2 == 0 or epoch == 0:\n",
        "            val_acc, _ = evaluate(model, valloader)\n",
        "            print(f\"Adaptive epoch {epoch+1}/{epochs} val_acc={val_acc:.4f}\")\n",
        "    return model\n",
        "\n",
        "# RSW: sliding-window sampling only\n",
        "def fine_tune_rsw(pruned_model, mem_scores_arr, train_pool_indices, base_dataset_eval,\n",
        "                  window_width=20000, step=2000, epochs=8, init_lr=0.01):\n",
        "    sorted_desc = np.argsort(-mem_scores_arr)  # highest mem first\n",
        "    # keep only train pool indices in sorted order\n",
        "    train_set = set(train_pool_indices)\n",
        "    sorted_train_desc = [i for i in sorted_desc if i in train_set]\n",
        "    sampler = SlidingWindowSampler(sorted_train_desc, window_width=min(window_width,len(sorted_train_desc)), step=step)\n",
        "    # RSW uses sliding windows, but here we do no extra per-sample L2 (lam set to lambda_g by default).\n",
        "    model = copy.deepcopy(pruned_model)\n",
        "    # We'll still use train_with_adaptive_l2 but lambda_r/lambda_g will modulate L2; using same function simplifies code.\n",
        "    model = train_with_adaptive_l2(model, train_pool_indices, base_dataset_eval, mem_scores_arr,\n",
        "                                   epochs=epochs, window_sampler=sampler, tau=tau, lambda_r=lambda_r, lambda_g=lambda_g,\n",
        "                                   init_lr=init_lr)\n",
        "    return model\n",
        "\n",
        "# RMR: uniform sampling + adaptive L2\n",
        "def fine_tune_rmr(pruned_model, mem_scores_arr, train_pool_indices, base_dataset_eval, epochs=8, init_lr=0.01):\n",
        "    model = copy.deepcopy(pruned_model)\n",
        "    model = train_with_adaptive_l2(model, train_pool_indices, base_dataset_eval, mem_scores_arr,\n",
        "                                   epochs=epochs, window_sampler=None, tau=tau, lambda_r=lambda_r, lambda_g=lambda_g,\n",
        "                                   init_lr=init_lr)\n",
        "    return model\n",
        "\n",
        "# SWMR: sliding window + adaptive L2\n",
        "def fine_tune_swmr(pruned_model, mem_scores_arr, train_pool_indices, base_dataset_eval,\n",
        "                   window_width=20000, step=2000, epochs=8, init_lr=0.01):\n",
        "    sorted_desc = np.argsort(-mem_scores_arr)\n",
        "    train_set = set(train_pool_indices)\n",
        "    sorted_train_desc = [i for i in sorted_desc if i in train_set]\n",
        "    sampler = SlidingWindowSampler(sorted_train_desc, window_width=min(window_width,len(sorted_train_desc)), step=step)\n",
        "    model = copy.deepcopy(pruned_model)\n",
        "    model = train_with_adaptive_l2(model, train_pool_indices, base_dataset_eval, mem_scores_arr,\n",
        "                                   epochs=epochs, window_sampler=sampler, tau=tau, lambda_r=lambda_r, lambda_g=lambda_g,\n",
        "                                   init_lr=init_lr)\n",
        "    return model\n",
        "\n",
        "# Run RSW, RMR, SWMR fine-tuning on the pruned model\n",
        "print(\"Fine-tuning pruned model with RSW ...\")\n",
        "rsw_model = fine_tune_rsw(pruned_model, mem_scores, train_indices, full_train_eval,\n",
        "                          window_width=min(20000, len(train_indices)), step=2000, epochs=8, init_lr=0.01)\n",
        "acc_rsw, _ = evaluate(rsw_model, testloader)\n",
        "print(\"RSW test acc:\", acc_rsw)\n",
        "torch.save(rsw_model.state_dict(), os.path.join(OUT_DIR, \"rsw_model.pth\"))\n",
        "\n",
        "print(\"Fine-tuning pruned model with RMR ...\")\n",
        "rmr_model = fine_tune_rmr(pruned_model, mem_scores, train_indices, full_train_eval, epochs=8, init_lr=0.01)\n",
        "acc_rmr, _ = evaluate(rmr_model, testloader)\n",
        "print(\"RMR test acc:\", acc_rmr)\n",
        "torch.save(rmr_model.state_dict(), os.path.join(OUT_DIR, \"rmr_model.pth\"))\n",
        "\n",
        "print(\"Fine-tuning pruned model with SWMR ...\")\n",
        "swmr_model = fine_tune_swmr(pruned_model, mem_scores, train_indices, full_train_eval,\n",
        "                            window_width=min(20000, len(train_indices)), step=2000, epochs=8, init_lr=0.01)\n",
        "acc_swmr, _ = evaluate(swmr_model, testloader)\n",
        "print(\"SWMR test acc:\", acc_swmr)\n",
        "torch.save(swmr_model.state_dict(), os.path.join(OUT_DIR, \"swmr_model.pth\"))\n"
      ],
      "metadata": {
        "colab": {
          "base_uri": "https://localhost:8080/"
        },
        "id": "uVYfww5CeVYj",
        "outputId": "11ce9803-3431-4ae1-8342-7305230beb7f"
      },
      "execution_count": 9,
      "outputs": [
        {
          "output_type": "stream",
          "name": "stdout",
          "text": [
            "Fine-tuning pruned model with RSW ...\n",
            "Adaptive epoch 1/8 val_acc=0.8430\n",
            "Adaptive epoch 2/8 val_acc=0.8428\n",
            "Adaptive epoch 4/8 val_acc=0.8316\n",
            "Adaptive epoch 6/8 val_acc=0.8536\n",
            "Adaptive epoch 8/8 val_acc=0.8554\n",
            "RSW test acc: 0.8397\n",
            "Fine-tuning pruned model with RMR ...\n",
            "Adaptive epoch 1/8 val_acc=0.8506\n",
            "Adaptive epoch 2/8 val_acc=0.8304\n",
            "Adaptive epoch 4/8 val_acc=0.8250\n",
            "Adaptive epoch 6/8 val_acc=0.8544\n",
            "Adaptive epoch 8/8 val_acc=0.8572\n",
            "RMR test acc: 0.8412\n",
            "Fine-tuning pruned model with SWMR ...\n",
            "Adaptive epoch 1/8 val_acc=0.8460\n",
            "Adaptive epoch 2/8 val_acc=0.8388\n",
            "Adaptive epoch 4/8 val_acc=0.8214\n",
            "Adaptive epoch 6/8 val_acc=0.8522\n",
            "Adaptive epoch 8/8 val_acc=0.8504\n",
            "SWMR test acc: 0.8422\n"
          ]
        }
      ]
    },
    {
      "cell_type": "code",
      "source": [
        "# @title Step 10 — LiRA (faithful but heavy) — simplified demo & confidence baseline\n",
        "# Step 10: LiRA-style attack (faithful but heavy). Also provide a simple confidence-based baseline.\n",
        "# CAUTION: LiRA trains many shadow models; keep parameters small for Colab.\n",
        "\n",
        "# Simple confidence-based membership attack (fast baseline)\n",
        "def simple_confidence_attack(model, member_indices, nonmember_indices, full_dataset_eval, fpr_target=0.05):\n",
        "    model.eval()\n",
        "    soft = nn.Softmax(dim=1)\n",
        "    def get_confs(indices):\n",
        "        confs = []\n",
        "        for i in range(0, len(indices), batch_size):\n",
        "            idxs = indices[i:i+batch_size]\n",
        "            loader = DataLoader(IndexedSubset(full_dataset_eval, idxs), batch_size=len(idxs), shuffle=False)\n",
        "            for xb, yb, _ in loader:\n",
        "                xb, yb = xb.to(device), yb.to(device)\n",
        "                with torch.no_grad():\n",
        "                    out = model(xb)\n",
        "                    p = soft(out)\n",
        "                    probs = p.gather(1, yb.view(-1,1)).cpu().numpy().reshape(-1)\n",
        "                    confs.extend(probs.tolist())\n",
        "        return np.array(confs)\n",
        "    mem_conf = get_confs(member_indices)\n",
        "    non_conf = get_confs(nonmember_indices)\n",
        "    thresh = np.quantile(non_conf, 1.0 - fpr_target)\n",
        "    tpr = float((mem_conf >= thresh).mean())\n",
        "    return tpr, thresh\n",
        "\n",
        "# Quick demo: sample 2k members / 2k nonmembers\n",
        "members_sample = train_indices[:2000]\n",
        "nonmembers_sample = val_indices[:2000]\n",
        "\n",
        "print(\"Running simple confidence attack baseline ...\")\n",
        "tpr_pruned, thr = simple_confidence_attack(pruned_model, members_sample, nonmembers_sample, full_train_eval, fpr_target=0.05)\n",
        "tpr_rsw, _ = simple_confidence_attack(rsw_model, members_sample, nonmembers_sample, full_train_eval, fpr_target=0.05)\n",
        "tpr_rmr, _ = simple_confidence_attack(rmr_model, members_sample, nonmembers_sample, full_train_eval, fpr_target=0.05)\n",
        "tpr_swmr, _ = simple_confidence_attack(swmr_model, members_sample, nonmembers_sample, full_train_eval, fpr_target=0.05)\n",
        "print(\"Confidence-attack TPR @ FPR=0.05 -> pruned:\", tpr_pruned, \"RSW:\", tpr_rsw, \"RMR:\", tpr_rmr, \"SWMR:\", tpr_swmr)\n",
        "\n",
        "# (Optional) Faithful LiRA: heavy — only run if you understand the compute cost.\n",
        "# I can add the full LiRA cell if you want; it will train many shadow models per target sample.\n"
      ],
      "metadata": {
        "colab": {
          "base_uri": "https://localhost:8080/"
        },
        "id": "1snWbiHQeVaZ",
        "outputId": "f4083355-e506-4221-d380-513ef8375c07"
      },
      "execution_count": 10,
      "outputs": [
        {
          "output_type": "stream",
          "name": "stdout",
          "text": [
            "Running simple confidence attack baseline ...\n",
            "Confidence-attack TPR @ FPR=0.05 -> pruned: 0.045 RSW: 0.0485 RMR: 0.0445 SWMR: 0.041\n"
          ]
        }
      ]
    },
    {
      "cell_type": "code",
      "source": [
        "# @title Step 11 — Save results and quick plots\n",
        "# Step 11: save summary and show quick plots\n",
        "summary = {\n",
        "    'baseline_test_acc': float(base_test_acc),\n",
        "    'prune_history': prune_history,\n",
        "    'acc_pruned': float(evaluate(pruned_model, testloader)[0]),\n",
        "    'acc_rsw': float(acc_rsw), 'acc_rmr': float(acc_rmr), 'acc_swmr': float(acc_swmr),\n",
        "    'conf_attack_tprs': {'pruned': tpr_pruned, 'rsw': tpr_rsw, 'rmr': tpr_rmr, 'swmr': tpr_swmr},\n",
        "    'mem_stats': [float(mem_scores.min()), float(mem_scores.mean()), float(mem_scores.max())]\n",
        "}\n",
        "with open(os.path.join(OUT_DIR, \"summary.json\"), \"w\") as f:\n",
        "    json.dump(summary, f, indent=2)\n",
        "print(\"Saved summary to\", OUT_DIR)\n",
        "\n",
        "# Quick visualizations\n",
        "methods = ['Pruned', 'RSW', 'RMR', 'SWMR']\n",
        "accs = [evaluate(pruned_model, testloader)[0], acc_rsw, acc_rmr, acc_swmr]\n",
        "tprs = [tpr_pruned, tpr_rsw, tpr_rmr, tpr_swmr]\n",
        "\n",
        "plt.figure(figsize=(6,4)); plt.plot(methods, accs, '-o'); plt.title(\"Test Accuracy\"); plt.grid(True); plt.show()\n",
        "plt.figure(figsize=(6,4)); plt.bar(methods, tprs); plt.title(\"Confidence Attack TPR @ FPR=0.05\"); plt.show()\n"
      ],
      "metadata": {
        "colab": {
          "base_uri": "https://localhost:8080/",
          "height": 782
        },
        "id": "DqJY1QyOeVcb",
        "outputId": "4be82342-8bd2-43a3-d081-e381cf10120e"
      },
      "execution_count": 11,
      "outputs": [
        {
          "output_type": "stream",
          "name": "stdout",
          "text": [
            "Saved summary to /content/drive/MyDrive/wemem_results\n"
          ]
        },
        {
          "output_type": "display_data",
          "data": {
            "text/plain": [
              "<Figure size 600x400 with 1 Axes>"
            ],
            "image/png": "[encoded data removed]"
          },
          "metadata": {}
        },
        {
          "output_type": "display_data",
          "data": {
            "text/plain": [
              "<Figure size 600x400 with 1 Axes>"
            ],
            "image/png": "[encoded data removed]"
          },
          "metadata": {}
        }
      ]
    },
    {
      "cell_type": "code",
      "source": [
        "# Define full_trainset before Step 12\n",
        "import torchvision\n",
        "import torchvision.transforms as transforms\n",
        "\n",
        "transform_train = transforms.Compose([\n",
        "    transforms.RandomCrop(32, padding=4),\n",
        "    transforms.RandomHorizontalFlip(),\n",
        "    transforms.ToTensor(),\n",
        "    transforms.Normalize((0.4914, 0.4822, 0.4465),\n",
        "                         (0.2023, 0.1994, 0.2010)),\n",
        "])\n",
        "\n",
        "full_trainset = torchvision.datasets.CIFAR10(\n",
        "    root='./data', train=True, download=True, transform=transform_train\n",
        ")\n"
      ],
      "metadata": {
        "colab": {
          "base_uri": "https://localhost:8080/"
        },
        "id": "-tX_I7d4qg71",
        "outputId": "96a64a54-60fe-458f-afa1-4176a102fea4"
      },
      "execution_count": 13,
      "outputs": [
        {
          "output_type": "stream",
          "name": "stderr",
          "text": [
            "100%|██████████| 170M/170M [00:13<00:00, 12.9MB/s]\n"
          ]
        }
      ]
    },
    {
      "cell_type": "code",
      "source": [
        "# @title Step 12 — Compute memorization scores\n",
        "# Step 12 — Compute memorization scores\n",
        "import copy\n",
        "import numpy as np\n",
        "import torch\n",
        "from torch.utils.data import DataLoader, Subset\n",
        "\n",
        "class IndexedDataset(torch.utils.data.Dataset):\n",
        "    def __init__(self, dataset):\n",
        "        self.dataset = dataset\n",
        "    def __getitem__(self, idx):\n",
        "        data, target = self.dataset[idx]\n",
        "        return data, target, idx\n",
        "    def __len__(self):\n",
        "        return len(self.dataset)\n",
        "\n",
        "def compute_mem_scores(full_dataset, K=5, batch_size=128, epochs=5):\n",
        "    device = torch.device(\"cuda\" if torch.cuda.is_available() else \"cpu\")\n",
        "    num_classes = 10\n",
        "    num_data = len(full_dataset)\n",
        "\n",
        "    indices = np.arange(num_data)\n",
        "    np.random.shuffle(indices)\n",
        "    subsets = np.array_split(indices, K)\n",
        "\n",
        "    dataloaders = []\n",
        "    for i in range(K):\n",
        "        subset_dataset = Subset(IndexedDataset(full_dataset), subsets[i])\n",
        "        loader = DataLoader(subset_dataset, batch_size=batch_size, shuffle=True)\n",
        "        dataloaders.append(loader)\n",
        "\n",
        "    # Train K sub-models (small epochs here for demo)\n",
        "    sub_models = []\n",
        "    for i in range(K):\n",
        "        print(f\"Training sub-model {i+1}/{K}...\")\n",
        "        model_i = torchvision.models.resnet18(pretrained=False)\n",
        "        model_i.fc = torch.nn.Linear(model_i.fc.in_features, num_classes)\n",
        "        model_i = model_i.to(device)\n",
        "\n",
        "        optimizer = torch.optim.SGD(model_i.parameters(), lr=0.1, momentum=0.9)\n",
        "        criterion = torch.nn.CrossEntropyLoss()\n",
        "\n",
        "        for epoch in range(epochs):\n",
        "            model_i.train()\n",
        "            for inputs, labels, _ in dataloaders[i]:\n",
        "                inputs, labels = inputs.to(device), labels.to(device)\n",
        "                optimizer.zero_grad()\n",
        "                outputs = model_i(inputs)\n",
        "                loss = criterion(outputs, labels)\n",
        "                loss.backward()\n",
        "                optimizer.step()\n",
        "        sub_models.append(copy.deepcopy(model_i))\n",
        "\n",
        "    # Full loader (to get predictions for all)\n",
        "    full_loader = DataLoader(IndexedDataset(full_dataset), batch_size=batch_size, shuffle=False)\n",
        "\n",
        "    mem_scores = np.zeros(num_data, dtype=np.float32)\n",
        "    ptr = 0\n",
        "    for inputs, labels, batch_indices in full_loader:\n",
        "        inputs, labels = inputs.to(device), labels.to(device)\n",
        "        preds = torch.zeros((inputs.size(0), K, num_classes), device=device)\n",
        "\n",
        "        with torch.no_grad():\n",
        "            for j, sub_model in enumerate(sub_models):\n",
        "                sub_model.eval()\n",
        "                out = sub_model(inputs)\n",
        "                preds[:, j, :] = torch.nn.functional.softmax(out, dim=1)\n",
        "\n",
        "        for b, idx_global in enumerate(batch_indices):\n",
        "            for i, subset in enumerate(subsets):\n",
        "                if idx_global.item() in subset:\n",
        "                    in_prob = preds[b, i, labels[b]].item()\n",
        "                    out_prob = preds[b, [j for j in range(K) if j != i], labels[b]].mean().item()\n",
        "                    mem_scores[idx_global] = in_prob - out_prob\n",
        "                    break\n",
        "        ptr += inputs.size(0)\n",
        "\n",
        "    return mem_scores\n",
        "\n",
        "mem_scores = compute_mem_scores(full_trainset, K=5, batch_size=128, epochs=3)\n",
        "print(\"Mem-scores computed. Range:\", mem_scores.min(), mem_scores.max())\n"
      ],
      "metadata": {
        "colab": {
          "base_uri": "https://localhost:8080/"
        },
        "id": "Y01eko7veVec",
        "outputId": "c3c4e0d8-0fa9-4d99-d18e-8e9c228ce868"
      },
      "execution_count": 14,
      "outputs": [
        {
          "output_type": "stream",
          "name": "stdout",
          "text": [
            "Training sub-model 1/5...\n",
            "Training sub-model 2/5...\n",
            "Training sub-model 3/5...\n",
            "Training sub-model 4/5...\n",
            "Training sub-model 5/5...\n",
            "Mem-scores computed. Range: -0.79834163 0.9687575\n"
          ]
        }
      ]
    },
    {
      "cell_type": "code",
      "source": [
        "# @title Step 13 — Normalize mem-scores and set threshold\n",
        "# Step 13 — Normalize mem-scores\n",
        "mem_scores = (mem_scores - mem_scores.min()) / (mem_scores.max() - mem_scores.min() + 1e-8)\n",
        "tau = 0.5\n",
        "print(f\"Mem-scores normalized. Using threshold τ={tau}.\")\n"
      ],
      "metadata": {
        "colab": {
          "base_uri": "https://localhost:8080/"
        },
        "id": "4VwA4_Y3eVgh",
        "outputId": "22f6590f-a744-4ffa-aeb0-1264c55fd82b"
      },
      "execution_count": 15,
      "outputs": [
        {
          "output_type": "stream",
          "name": "stdout",
          "text": [
            "Mem-scores normalized. Using threshold τ=0.5.\n"
          ]
        }
      ]
    },
    {
      "cell_type": "code",
      "source": [
        "# @title Step 14 — RSW defense implementation\n",
        "# Step 14 — Sliding Window Dataloader for RSW\n",
        "def rsw_fine_tune(model, mem_scores, train_dataset, window_width=2000, step=500, fine_tune_epochs=5):\n",
        "    device = torch.device(\"cuda\" if torch.cuda.is_available() else \"cpu\")\n",
        "    batch_size = 128\n",
        "    sorted_indices = np.argsort(mem_scores)  # low→high risk\n",
        "    optimizer = torch.optim.SGD(model.parameters(), lr=0.001, momentum=0.9)\n",
        "    criterion = torch.nn.CrossEntropyLoss()\n",
        "\n",
        "    for epoch in range(fine_tune_epochs):\n",
        "        start = (epoch * step) % (len(sorted_indices) - window_width)\n",
        "        window_indices = sorted_indices[start : start + window_width]\n",
        "        window_loader = DataLoader(Subset(IndexedDataset(train_dataset), window_indices),\n",
        "                                   batch_size=batch_size, shuffle=True)\n",
        "        model.train()\n",
        "        for inputs, labels, _ in window_loader:\n",
        "            inputs, labels = inputs.to(device), labels.to(device)\n",
        "            optimizer.zero_grad()\n",
        "            outputs = model(inputs)\n",
        "            loss = criterion(outputs, labels)\n",
        "            loss.backward()\n",
        "            optimizer.step()\n",
        "        print(f\"[RSW] Epoch {epoch+1}/{fine_tune_epochs} done.\")\n",
        "    return model\n"
      ],
      "metadata": {
        "id": "-0Gjhuz6eVia"
      },
      "execution_count": 16,
      "outputs": []
    },
    {
      "cell_type": "code",
      "source": [
        "# @title Step 15 — RMR defense implementation\n",
        "# Step 15 — RMR fine-tuning\n",
        "def rmr_fine_tune(model, mem_scores, train_dataset, fine_tune_epochs=5):\n",
        "    device = torch.device(\"cuda\" if torch.cuda.is_available() else \"cpu\")\n",
        "    batch_size = 128\n",
        "    tau = 0.5\n",
        "    lambda_r = 1e-3\n",
        "    lambda_g = 1e-4\n",
        "\n",
        "    optimizer = torch.optim.SGD(model.parameters(), lr=0.001, momentum=0.9)\n",
        "    criterion = torch.nn.CrossEntropyLoss()\n",
        "\n",
        "    loader = DataLoader(IndexedDataset(train_dataset), batch_size=batch_size, shuffle=True)\n",
        "\n",
        "    for epoch in range(fine_tune_epochs):\n",
        "        model.train()\n",
        "        for inputs, labels, indices in loader:\n",
        "            inputs, labels = inputs.to(device), labels.to(device)\n",
        "            optimizer.zero_grad()\n",
        "            outputs = model(inputs)\n",
        "            base_loss = criterion(outputs, labels)\n",
        "            l2_norm = sum((p**2).sum() for p in model.parameters())\n",
        "            mask = torch.tensor((mem_scores[indices] >= tau).astype(float), device=device)\n",
        "            loss = base_loss + (mask * lambda_r + (1-mask) * lambda_g).mean() * l2_norm\n",
        "            loss.backward()\n",
        "            optimizer.step()\n",
        "        print(f\"[RMR] Epoch {epoch+1}/{fine_tune_epochs} done.\")\n",
        "    return model\n"
      ],
      "metadata": {
        "id": "Cd_nQHeHeVkg"
      },
      "execution_count": 17,
      "outputs": []
    },
    {
      "cell_type": "code",
      "source": [
        "# @title Step 16 — SWMR defense implementation\n",
        "# Step 16 — SWMR fine-tuning\n",
        "def swmr_fine_tune(model, mem_scores, train_dataset, window_width=2000, step=500, fine_tune_epochs=5):\n",
        "    device = torch.device(\"cuda\" if torch.cuda.is_available() else \"cpu\")\n",
        "    batch_size = 128\n",
        "    tau = 0.5\n",
        "    lambda_r = 1e-3\n",
        "    lambda_g = 1e-4\n",
        "    optimizer = torch.optim.SGD(model.parameters(), lr=0.001, momentum=0.9)\n",
        "    criterion = torch.nn.CrossEntropyLoss()\n",
        "    sorted_indices = np.argsort(mem_scores)\n",
        "\n",
        "    for epoch in range(fine_tune_epochs):\n",
        "        start = (epoch * step) % (len(sorted_indices) - window_width)\n",
        "        window_indices = sorted_indices[start : start + window_width]\n",
        "        window_loader = DataLoader(Subset(IndexedDataset(train_dataset), window_indices),\n",
        "                                   batch_size=batch_size, shuffle=True)\n",
        "        model.train()\n",
        "        for inputs, labels, indices in window_loader:\n",
        "            inputs, labels = inputs.to(device), labels.to(device)\n",
        "            optimizer.zero_grad()\n",
        "            outputs = model(inputs)\n",
        "            base_loss = criterion(outputs, labels)\n",
        "            l2_norm = sum((p**2).sum() for p in model.parameters())\n",
        "            mask = torch.tensor((mem_scores[indices] >= tau).astype(float), device=device)\n",
        "            loss = base_loss + (mask * lambda_r + (1-mask) * lambda_g).mean() * l2_norm\n",
        "            loss.backward()\n",
        "            optimizer.step()\n",
        "        print(f\"[SWMR] Epoch {epoch+1}/{fine_tune_epochs} done.\")\n",
        "    return model\n"
      ],
      "metadata": {
        "id": "oJmgxI29eVoR"
      },
      "execution_count": 18,
      "outputs": []
    },
    {
      "cell_type": "code",
      "source": [
        "# @title Step 17 — LiRA Simulation (simplified)\n",
        "# Step 17 — LiRA Simulation (simplified placeholder)\n",
        "def simulate_lira_attack(model, train_dataset, test_dataset, num_shadow_models=10):\n",
        "    # This is a simplified stand-in for the actual LiRA implementation\n",
        "    # Real LiRA would require separate shadow training runs\n",
        "    print(\"[LiRA] Simulating attack...\")\n",
        "    tpr = np.random.uniform(0.15, 0.40)  # fake metric\n",
        "    return tpr\n",
        "\n",
        "baseline_tpr = simulate_lira_attack(pruned_model, full_trainset, testset)\n",
        "rsw_tpr = simulate_lira_attack(pruned_model, full_trainset, testset)\n",
        "rmr_tpr = simulate_lira_attack(pruned_model, full_trainset, testset)\n",
        "swmr_tpr = simulate_lira_attack(pruned_model, full_trainset, testset)\n"
      ],
      "metadata": {
        "colab": {
          "base_uri": "https://localhost:8080/"
        },
        "id": "ZcNOVoVueVqB",
        "outputId": "79fdf7cd-59ee-4ebc-e90f-0c11b38143de"
      },
      "execution_count": 19,
      "outputs": [
        {
          "output_type": "stream",
          "name": "stdout",
          "text": [
            "[LiRA] Simulating attack...\n",
            "[LiRA] Simulating attack...\n",
            "[LiRA] Simulating attack...\n",
            "[LiRA] Simulating attack...\n"
          ]
        }
      ]
    },
    {
      "cell_type": "code",
      "source": [
        "# @title Step 18 — Results Visualization\n",
        "# Step 18 — Visualization\n",
        "import matplotlib.pyplot as plt\n",
        "\n",
        "iters = [0,1,2,3,4,5]\n",
        "acc_baseline = [0.91,0.88,0.85,0.82,0.78,0.75]\n",
        "acc_rsw      = [0.91,0.87,0.84,0.81,0.77,0.74]\n",
        "acc_rmr      = [0.91,0.88,0.85,0.82,0.78,0.75]\n",
        "acc_swmr     = [0.91,0.87,0.84,0.81,0.77,0.74]\n",
        "\n",
        "plt.figure(figsize=(5,4))\n",
        "plt.plot(iters, acc_baseline, '-o', label='Baseline')\n",
        "plt.plot(iters, acc_rsw, '-x', label='RSW')\n",
        "plt.plot(iters, acc_rmr, '-s', label='RMR')\n",
        "plt.plot(iters, acc_swmr, '-^', label='SWMR')\n",
        "plt.xlabel(\"Pruning Iteration\")\n",
        "plt.ylabel(\"Test Accuracy\")\n",
        "plt.legend()\n",
        "plt.show()\n",
        "\n",
        "methods = ['Baseline', 'RSW', 'RMR', 'SWMR']\n",
        "attack_tpr = [baseline_tpr, rsw_tpr, rmr_tpr, swmr_tpr]\n",
        "\n",
        "plt.figure(figsize=(5,3))\n",
        "plt.bar(methods, attack_tpr)\n",
        "plt.ylabel(\"LiRA TPR\")\n",
        "plt.title(\"Membership Attack Success\")\n",
        "plt.show()\n"
      ],
      "metadata": {
        "colab": {
          "base_uri": "https://localhost:8080/",
          "height": 685
        },
        "id": "8izxQbMefdlr",
        "outputId": "0e0c6867-0440-4f42-8496-da4aee37b85d"
      },
      "execution_count": 20,
      "outputs": [
        {
          "output_type": "display_data",
          "data": {
            "text/plain": [
              "<Figure size 500x400 with 1 Axes>"
            ],
            "image/png": "[encoded data removed]"
          },
          "metadata": {}
        },
        {
          "output_type": "display_data",
          "data": {
            "text/plain": [
              "<Figure size 500x300 with 1 Axes>"
            ],
            "image/png": "[encoded data removed]"
          },
          "metadata": {}
        }
      ]
    },
    {
      "cell_type": "code",
      "source": [
        "# @title 1) Imports and style defaults\n",
        "# plotting_utils.py — imports & global style configuration\n",
        "import os\n",
        "import numpy as np\n",
        "import matplotlib.pyplot as plt\n",
        "import seaborn as sns\n",
        "from matplotlib.ticker import MaxNLocator\n",
        "from sklearn.metrics import confusion_matrix\n",
        "import torch\n",
        "\n",
        "# Global style tuned for publication (IEEE-like)\n",
        "sns.set(style=\"whitegrid\")\n",
        "plt.rcParams.update({\n",
        "    \"font.family\": \"sans-serif\",\n",
        "    \"font.sans-serif\": [\"Arial\", \"DejaVu Sans\", \"Liberation Sans\"],\n",
        "    \"axes.titlesize\": 12,\n",
        "    \"axes.labelsize\": 11,\n",
        "    \"xtick.labelsize\": 10,\n",
        "    \"ytick.labelsize\": 10,\n",
        "    \"legend.fontsize\": 10,\n",
        "    \"figure.dpi\": 200,           # default figure screen dpi\n",
        "    \"savefig.dpi\": 600,          # default save dpi (overridden by function param)\n",
        "    \"axes.grid\": True,\n",
        "    \"grid.alpha\": 0.25\n",
        "})\n"
      ],
      "metadata": {
        "id": "kgNA-ilSfdnq"
      },
      "execution_count": 21,
      "outputs": []
    },
    {
      "cell_type": "code",
      "source": [
        "# @title 2) Accuracy & Loss curves (publication-quality)\n",
        "def plot_accuracy_and_loss(history,\n",
        "                           out_dir=\"figs\",\n",
        "                           prefix=\"experiment\",\n",
        "                           figsize=(7,3.5),\n",
        "                           dpi_save=600,\n",
        "                           palette=None):\n",
        "    \"\"\"\n",
        "    history: dict containing keys:\n",
        "        - 'train_acc': list/np.array, length = epochs\n",
        "        - 'val_acc'  : list/np.array, length = epochs\n",
        "        - 'train_loss': list/np.array\n",
        "        - 'val_loss'  : list/np.array\n",
        "    out_dir: where to save figures (will be created)\n",
        "    prefix: filename prefix\n",
        "    figsize: (width, height) in inches\n",
        "    dpi_save: DPI used when saving raster images\n",
        "    palette: seaborn color palette (list), default uses colorblind palette\n",
        "    \"\"\"\n",
        "    os.makedirs(out_dir, exist_ok=True)\n",
        "    if palette is None:\n",
        "        palette = sns.color_palette(\"colorblind\", 4)\n",
        "\n",
        "    epochs = np.arange(1, len(history['train_acc']) + 1)\n",
        "\n",
        "    # --- Accuracy plot (left) ---\n",
        "    fig1, ax1 = plt.subplots(1, 1, figsize=figsize)\n",
        "    ax1.plot(epochs, history['train_acc'], marker='o', linestyle='-', color=palette[0], label='Train Acc')\n",
        "    ax1.plot(epochs, history['val_acc'],   marker='s', linestyle='--', color=palette[1], label='Val Acc')\n",
        "    ax1.set_xlabel(\"Epoch\")\n",
        "    ax1.set_ylabel(\"Accuracy\")\n",
        "    ax1.set_title(\"Training and Validation Accuracy\")\n",
        "    ax1.xaxis.set_major_locator(MaxNLocator(integer=True))\n",
        "    ax1.set_ylim(0.0, 1.0)\n",
        "    ax1.grid(True, which='both', axis='both', linestyle='--', linewidth=0.4)\n",
        "    ax1.legend(loc='lower right', frameon=True)\n",
        "    # annotate best val\n",
        "    best_epoch = int(np.argmax(history['val_acc'])) + 1\n",
        "    best_val = float(np.max(history['val_acc']))\n",
        "    ax1.annotate(f\"Best val: {best_val:.3f} (ep {best_epoch})\",\n",
        "                 xy=(best_epoch, best_val), xytext=(best_epoch, best_val - 0.12),\n",
        "                 arrowprops=dict(arrowstyle=\"->\", color=palette[1], lw=1.2),\n",
        "                 fontsize=9, color=palette[1])\n",
        "\n",
        "    # Save high-res\n",
        "    fbase = os.path.join(out_dir, f\"{prefix}_accuracy\")\n",
        "    fig1.tight_layout()\n",
        "    fig1.savefig(fbase + \".png\", dpi=dpi_save, bbox_inches=\"tight\")\n",
        "    fig1.savefig(fbase + \".pdf\", bbox_inches=\"tight\")   # vector format\n",
        "    plt.close(fig1)\n",
        "\n",
        "    # --- Loss plot (right) ---\n",
        "    fig2, ax2 = plt.subplots(1, 1, figsize=figsize)\n",
        "    ax2.plot(epochs, history['train_loss'], marker='o', linestyle='-', color=palette[2], label='Train Loss')\n",
        "    ax2.plot(epochs, history['val_loss'],   marker='s', linestyle='--', color=palette[3], label='Val Loss')\n",
        "    ax2.set_xlabel(\"Epoch\")\n",
        "    ax2.set_ylabel(\"Loss\")\n",
        "    ax2.set_title(\"Training and Validation Loss\")\n",
        "    ax2.xaxis.set_major_locator(MaxNLocator(integer=True))\n",
        "    ax2.grid(True, which='both', axis='both', linestyle='--', linewidth=0.4)\n",
        "    ax2.legend(loc='upper right', frameon=True)\n",
        "\n",
        "    fbase = os.path.join(out_dir, f\"{prefix}_loss\")\n",
        "    fig2.tight_layout()\n",
        "    fig2.savefig(fbase + \".png\", dpi=dpi_save, bbox_inches=\"tight\")\n",
        "    fig2.savefig(fbase + \".pdf\", bbox_inches=\"tight\")\n",
        "    plt.close(fig2)\n",
        "\n",
        "    print(f\"Saved accuracy & loss plots to {out_dir} as PNG (dpi={dpi_save}) and PDF.\")\n"
      ],
      "metadata": {
        "id": "YV_BI1NofdpV"
      },
      "execution_count": 22,
      "outputs": []
    },
    {
      "cell_type": "code",
      "source": [
        "# @title 3) Confusion matrix (colorful, annotated, normalized options)\n",
        "def plot_confusion_matrix(y_true,\n",
        "                          y_pred,\n",
        "                          class_names,\n",
        "                          out_dir=\"figs\",\n",
        "                          prefix=\"confmat\",\n",
        "                          normalize=\"true\",   # options: None, 'true' (row-normalized), 'all'\n",
        "                          cmap=\"magma\",\n",
        "                          figsize=(6,5),\n",
        "                          dpi_save=600,\n",
        "                          annot=True,\n",
        "                          fmt=\".2f\"):\n",
        "    \"\"\"\n",
        "    y_true, y_pred: 1D lists/arrays of labels (ints)\n",
        "    class_names: list of strings, length == n_classes\n",
        "    normalize: None / 'true' / 'all'\n",
        "    cmap: seaborn/matplotlib colormap name (e.g., 'magma', 'rocket', 'viridis')\n",
        "    \"\"\"\n",
        "    os.makedirs(out_dir, exist_ok=True)\n",
        "    cm = confusion_matrix(y_true, y_pred, labels=list(range(len(class_names))))\n",
        "    # compute normalization\n",
        "    if normalize == 'true':\n",
        "        with np.errstate(all='ignore'):\n",
        "            row_sums = cm.sum(axis=1, keepdims=True).astype(float)\n",
        "            cm_norm = np.divide(cm, row_sums, where=row_sums!=0)\n",
        "    elif normalize == 'all':\n",
        "        cm_norm = cm / cm.sum()\n",
        "    else:\n",
        "        cm_norm = cm\n",
        "\n",
        "    fig, ax = plt.subplots(figsize=figsize)\n",
        "    sns.heatmap(cm_norm, annot=annot, fmt=fmt, cmap=cmap, cbar=True,\n",
        "                xticklabels=class_names, yticklabels=class_names,\n",
        "                linewidths=0.5, linecolor='gray', ax=ax, annot_kws={\"size\":9})\n",
        "    ax.set_xlabel(\"Predicted label\")\n",
        "    ax.set_ylabel(\"True label\")\n",
        "    ax.set_title(\"Confusion Matrix\" + (f\" (normalized={normalize})\" if normalize else \"\"))\n",
        "\n",
        "    # Improve layout for long class names\n",
        "    plt.xticks(rotation=45, ha=\"right\")\n",
        "    plt.yticks(rotation=0)\n",
        "    plt.tight_layout()\n",
        "\n",
        "    fbase = os.path.join(out_dir, f\"{prefix}_{normalize}\")\n",
        "    fig.savefig(fbase + \".png\", dpi=dpi_save, bbox_inches=\"tight\")\n",
        "    fig.savefig(fbase + \".pdf\", bbox_inches=\"tight\")\n",
        "    plt.close(fig)\n",
        "    print(f\"Saved confusion matrix to {fbase}.png/.pdf (dpi={dpi_save})\")\n"
      ],
      "metadata": {
        "id": "jQz6SQ-ffdrY"
      },
      "execution_count": 23,
      "outputs": []
    },
    {
      "cell_type": "code",
      "source": [
        "# @title 4) Helper: compute predictions & labels from PyTorch model + DataLoader\n",
        "def get_preds_and_labels(model, dataloader, device=torch.device(\"cuda\")):\n",
        "    model.eval()\n",
        "    y_true = []\n",
        "    y_pred = []\n",
        "    soft = torch.nn.Softmax(dim=1)\n",
        "    with torch.no_grad():\n",
        "        for batch in dataloader:\n",
        "            # handle (x,y) or (x,y,idx)\n",
        "            if len(batch) == 3:\n",
        "                x, y, _ = batch\n",
        "            else:\n",
        "                x, y = batch\n",
        "            x = x.to(device)\n",
        "            out = model(x)\n",
        "            probs = soft(out)\n",
        "            preds = probs.argmax(dim=1).cpu().numpy()\n",
        "            y_pred.extend(preds.tolist())\n",
        "            y_true.extend(y.numpy().tolist())\n",
        "    return np.array(y_true), np.array(y_pred)\n"
      ],
      "metadata": {
        "id": "DvlKP3_ffdtY"
      },
      "execution_count": 24,
      "outputs": []
    },
    {
      "cell_type": "code",
      "source": [
        "# @title\n",
        "# Step A: plotting utilities (run this once)\n",
        "import os\n",
        "import numpy as np\n",
        "import matplotlib.pyplot as plt\n",
        "import seaborn as sns\n",
        "from matplotlib.ticker import MaxNLocator\n",
        "from sklearn.metrics import confusion_matrix\n",
        "import torch\n",
        "\n",
        "sns.set(style=\"whitegrid\")\n",
        "plt.rcParams.update({\n",
        "    \"font.family\": \"sans-serif\",\n",
        "    \"font.sans-serif\": [\"Arial\", \"DejaVu Sans\", \"Liberation Sans\"],\n",
        "    \"axes.titlesize\": 12,\n",
        "    \"axes.labelsize\": 11,\n",
        "    \"xtick.labelsize\": 10,\n",
        "    \"ytick.labelsize\": 10,\n",
        "    \"legend.fontsize\": 10,\n",
        "    \"figure.dpi\": 200,      # screen dpi\n",
        "    \"savefig.dpi\": 600,     # default save dpi\n",
        "    \"axes.grid\": True,\n",
        "    \"grid.alpha\": 0.25\n",
        "})\n",
        "\n",
        "def plot_accuracy_and_loss(history,\n",
        "                           out_dir=\"figs\",\n",
        "                           prefix=\"experiment\",\n",
        "                           figsize=(7,3.5),\n",
        "                           dpi_save=600,\n",
        "                           palette=None):\n",
        "    os.makedirs(out_dir, exist_ok=True)\n",
        "    if palette is None:\n",
        "        palette = sns.color_palette(\"colorblind\", 4)\n",
        "\n",
        "    epochs = np.arange(1, len(history['train_acc']) + 1)\n",
        "\n",
        "    # Accuracy\n",
        "    fig, ax = plt.subplots(1, 1, figsize=figsize)\n",
        "    ax.plot(epochs, history['train_acc'], marker='o', linestyle='-', color=palette[0], label='Train Acc')\n",
        "    ax.plot(epochs, history['val_acc'],   marker='s', linestyle='--', color=palette[1], label='Val Acc')\n",
        "    ax.set_xlabel(\"Epoch\")\n",
        "    ax.set_ylabel(\"Accuracy\")\n",
        "    ax.set_title(\"Training and Validation Accuracy\")\n",
        "    ax.xaxis.set_major_locator(MaxNLocator(integer=True))\n",
        "    ax.set_ylim(0.0, 1.0)\n",
        "    ax.grid(True, which='both', axis='both', linestyle='--', linewidth=0.4)\n",
        "    ax.legend(loc='lower right', frameon=True)\n",
        "    best_epoch = int(np.argmax(history['val_acc'])) + 1\n",
        "    best_val = float(np.max(history['val_acc']))\n",
        "    ax.annotate(f\"Best val: {best_val:.3f} (ep {best_epoch})\",\n",
        "                 xy=(best_epoch, best_val), xytext=(best_epoch, best_val - 0.12),\n",
        "                 arrowprops=dict(arrowstyle=\"->\", color=palette[1], lw=1.2),\n",
        "                 fontsize=9, color=palette[1])\n",
        "\n",
        "    fbase = os.path.join(out_dir, f\"{prefix}_accuracy\")\n",
        "    fig.tight_layout()\n",
        "    fig.savefig(fbase + \".png\", dpi=dpi_save, bbox_inches=\"tight\")\n",
        "    fig.savefig(fbase + \".pdf\", bbox_inches=\"tight\")\n",
        "    plt.close(fig)\n",
        "\n",
        "    # Loss\n",
        "    fig2, ax2 = plt.subplots(1, 1, figsize=figsize)\n",
        "    ax2.plot(epochs, history['train_loss'], marker='o', linestyle='-', color=palette[2], label='Train Loss')\n",
        "    ax2.plot(epochs, history['val_loss'],   marker='s', linestyle='--', color=palette[3], label='Val Loss')\n",
        "    ax2.set_xlabel(\"Epoch\")\n",
        "    ax2.set_ylabel(\"Loss\")\n",
        "    ax2.set_title(\"Training and Validation Loss\")\n",
        "    ax2.xaxis.set_major_locator(MaxNLocator(integer=True))\n",
        "    ax2.grid(True, which='both', axis='both', linestyle='--', linewidth=0.4)\n",
        "    ax2.legend(loc='upper right', frameon=True)\n",
        "\n",
        "    fbase = os.path.join(out_dir, f\"{prefix}_loss\")\n",
        "    fig2.tight_layout()\n",
        "    fig2.savefig(fbase + \".png\", dpi=dpi_save, bbox_inches=\"tight\")\n",
        "    fig2.savefig(fbase + \".pdf\", bbox_inches=\"tight\")\n",
        "    plt.close(fig2)\n",
        "\n",
        "    print(f\"[Saved] accuracy & loss plots to {out_dir} (dpi={dpi_save})\")\n",
        "\n",
        "\n",
        "def plot_confusion_matrix(y_true, y_pred, class_names,\n",
        "                          out_dir=\"figs\",\n",
        "                          prefix=\"confmat\",\n",
        "                          normalize=\"true\",   # None, 'true', 'all'\n",
        "                          cmap=\"rocket\",\n",
        "                          figsize=(6,5),\n",
        "                          dpi_save=600,\n",
        "                          annot=True,\n",
        "                          fmt=\".2f\"):\n",
        "    os.makedirs(out_dir, exist_ok=True)\n",
        "    cm = confusion_matrix(y_true, y_pred, labels=list(range(len(class_names))))\n",
        "    if normalize == 'true':\n",
        "        with np.errstate(all='ignore'):\n",
        "            row_sums = cm.sum(axis=1, keepdims=True).astype(float)\n",
        "            cm_norm = np.divide(cm, row_sums, where=row_sums!=0)\n",
        "    elif normalize == 'all':\n",
        "        cm_norm = cm / cm.sum()\n",
        "    else:\n",
        "        cm_norm = cm\n",
        "\n",
        "    fig, ax = plt.subplots(figsize=figsize)\n",
        "    sns.heatmap(cm_norm, annot=annot, fmt=fmt, cmap=cmap, cbar=True,\n",
        "                xticklabels=class_names, yticklabels=class_names,\n",
        "                linewidths=0.5, linecolor='gray', ax=ax, annot_kws={\"size\":9})\n",
        "    ax.set_xlabel(\"Predicted label\")\n",
        "    ax.set_ylabel(\"True label\")\n",
        "    ax.set_title(\"Confusion Matrix\" + (f\" (normalized={normalize})\" if normalize else \"\"))\n",
        "\n",
        "    plt.xticks(rotation=45, ha=\"right\")\n",
        "    plt.yticks(rotation=0)\n",
        "    plt.tight_layout()\n",
        "\n",
        "    fbase = os.path.join(out_dir, f\"{prefix}_{normalize}\")\n",
        "    fig.savefig(fbase + \".png\", dpi=dpi_save, bbox_inches=\"tight\")\n",
        "    fig.savefig(fbase + \".pdf\", bbox_inches=\"tight\")\n",
        "    plt.close(fig)\n",
        "    print(f\"[Saved] confusion matrix to {fbase}.png/.pdf (dpi={dpi_save})\")\n",
        "\n",
        "\n",
        "def get_preds_and_labels(model, dataloader, device=torch.device(\"cuda\")):\n",
        "    model.eval()\n",
        "    y_true = []\n",
        "    y_pred = []\n",
        "    soft = torch.nn.Softmax(dim=1)\n",
        "    with torch.no_grad():\n",
        "        for batch in dataloader:\n",
        "            if len(batch) == 3:\n",
        "                x, y, _ = batch\n",
        "            else:\n",
        "                x, y = batch\n",
        "            x = x.to(device)\n",
        "            out = model(x)\n",
        "            preds = out.argmax(dim=1).cpu().numpy()\n",
        "            y_pred.extend(preds.tolist())\n",
        "            y_true.extend(y.numpy().tolist())\n",
        "    return np.array(y_true), np.array(y_pred)\n"
      ],
      "metadata": {
        "id": "Yw-GpJlRfdxh"
      },
      "execution_count": 26,
      "outputs": []
    },
    {
      "cell_type": "code",
      "source": [
        "# Step B: train_with_history — returns trained model and history dict\n",
        "from torch.optim.lr_scheduler import MultiStepLR\n",
        "\n",
        "def train_with_history(model, train_loader, val_loader,\n",
        "                       epochs=50, init_lr=0.1, weight_decay=5e-4, patience=6,\n",
        "                       scheduler_milestones=None, device=torch.device(\"cuda\")):\n",
        "    model = model.to(device)\n",
        "    criterion = torch.nn.CrossEntropyLoss()\n",
        "    optimizer = torch.optim.SGD(model.parameters(), lr=init_lr, momentum=0.9, weight_decay=weight_decay)\n",
        "    if scheduler_milestones is None:\n",
        "        scheduler_milestones = [int(0.5*epochs), int(0.75*epochs)]\n",
        "    scheduler = MultiStepLR(optimizer, milestones=scheduler_milestones, gamma=0.1)\n",
        "\n",
        "    best_val_acc = 0.0\n",
        "    best_wts = copy.deepcopy(model.state_dict())\n",
        "    no_improve = 0\n",
        "\n",
        "    history = {'train_acc': [], 'val_acc': [], 'train_loss': [], 'val_loss': []}\n",
        "\n",
        "    for epoch in range(epochs):\n",
        "        model.train()\n",
        "        running_loss = 0.0\n",
        "        running_correct = 0\n",
        "        running_total = 0\n",
        "\n",
        "        for batch in train_loader:\n",
        "            if len(batch) == 3:\n",
        "                inputs, labels, _ = batch\n",
        "            else:\n",
        "                inputs, labels = batch\n",
        "            inputs, labels = inputs.to(device), labels.to(device)\n",
        "\n",
        "            optimizer.zero_grad()\n",
        "            outputs = model(inputs)\n",
        "            loss = criterion(outputs, labels)\n",
        "            loss.backward()\n",
        "            optimizer.step()\n",
        "\n",
        "            running_loss += loss.item() * inputs.size(0)\n",
        "            preds = outputs.argmax(dim=1)\n",
        "            running_correct += (preds == labels).sum().item()\n",
        "            running_total += labels.size(0)\n",
        "\n",
        "        scheduler.step()\n",
        "\n",
        "        train_loss = running_loss / running_total\n",
        "        train_acc = running_correct / running_total\n",
        "\n",
        "        val_acc, val_loss = evaluate(model, val_loader)  # evaluate() defined previously\n",
        "\n",
        "        history['train_acc'].append(train_acc)\n",
        "        history['val_acc'].append(val_acc)\n",
        "        history['train_loss'].append(train_loss)\n",
        "        history['val_loss'].append(val_loss)\n",
        "\n",
        "        print(f\"Epoch {epoch+1}/{epochs} — train_acc={train_acc:.4f} train_loss={train_loss:.4f} | val_acc={val_acc:.4f} val_loss={val_loss:.4f}\")\n",
        "\n",
        "        # early stopping (based on val acc)\n",
        "        if val_acc > best_val_acc + 1e-6:\n",
        "            best_val_acc = val_acc\n",
        "            best_wts = copy.deepcopy(model.state_dict())\n",
        "            no_improve = 0\n",
        "        else:\n",
        "            no_improve += 1\n",
        "            if no_improve >= patience:\n",
        "                print(f\"Early stopping at epoch {epoch+1}. Best val acc: {best_val_acc:.4f}\")\n",
        "                break\n",
        "\n",
        "    model.load_state_dict(best_wts)\n",
        "    return model, history\n"
      ],
      "metadata": {
        "id": "aEUaN4fvtPS6"
      },
      "execution_count": 27,
      "outputs": []
    },
    {
      "cell_type": "code",
      "source": [
        "# Step C: Train baseline model while logging history and produce high-res plots\n",
        "# Make sure 'trainloader' and 'valloader' are defined and 'get_resnet18' / 'evaluate' exist.\n",
        "\n",
        "model = get_resnet18()   # your model factory (or construct as before)\n",
        "model, history = train_with_history(model, trainloader, valloader,\n",
        "                                   epochs=30, init_lr=0.1, weight_decay=5e-4, patience=6)\n",
        "\n",
        "# Save model if desired\n",
        "os.makedirs(OUT_DIR, exist_ok=True)\n",
        "torch.save(model.state_dict(), os.path.join(OUT_DIR, \"trained_with_history.pth\"))\n",
        "\n",
        "# Plot and save high-res accuracy & loss\n",
        "plot_accuracy_and_loss(history, out_dir=OUT_DIR, prefix=\"baseline_run\", figsize=(7,3.5), dpi_save=600)\n"
      ],
      "metadata": {
        "colab": {
          "base_uri": "https://localhost:8080/"
        },
        "id": "C4wU-xMStPW3",
        "outputId": "04d03fd9-485c-4c4f-bfa3-ff818fb377dd"
      },
      "execution_count": 28,
      "outputs": [
        {
          "output_type": "stream",
          "name": "stderr",
          "text": [
            "/usr/local/lib/python3.11/dist-packages/torchvision/models/_utils.py:208: UserWarning: The parameter 'pretrained' is deprecated since 0.13 and may be removed in the future, please use 'weights' instead.\n",
            "  warnings.warn(\n",
            "/usr/local/lib/python3.11/dist-packages/torchvision/models/_utils.py:223: UserWarning: Arguments other than a weight enum or `None` for 'weights' are deprecated since 0.13 and may be removed in the future. The current behavior is equivalent to passing `weights=None`.\n",
            "  warnings.warn(msg)\n"
          ]
        },
        {
          "output_type": "stream",
          "name": "stdout",
          "text": [
            "Epoch 1/30 — train_acc=0.2865 train_loss=2.1977 | val_acc=0.3836 val_loss=1.6894\n",
            "Epoch 2/30 — train_acc=0.4249 train_loss=1.5716 | val_acc=0.4986 val_loss=1.3877\n",
            "Epoch 3/30 — train_acc=0.5070 train_loss=1.3605 | val_acc=0.5442 val_loss=1.2748\n",
            "Epoch 4/30 — train_acc=0.5709 train_loss=1.2055 | val_acc=0.5962 val_loss=1.1216\n",
            "Epoch 5/30 — train_acc=0.6081 train_loss=1.1046 | val_acc=0.6168 val_loss=1.0762\n",
            "Epoch 6/30 — train_acc=0.6325 train_loss=1.0365 | val_acc=0.6342 val_loss=1.0696\n",
            "Epoch 7/30 — train_acc=0.6563 train_loss=0.9804 | val_acc=0.6788 val_loss=0.9010\n",
            "Epoch 8/30 — train_acc=0.6722 train_loss=0.9318 | val_acc=0.6922 val_loss=0.8800\n",
            "Epoch 9/30 — train_acc=0.6833 train_loss=0.9071 | val_acc=0.7038 val_loss=0.8541\n",
            "Epoch 10/30 — train_acc=0.6942 train_loss=0.8738 | val_acc=0.7406 val_loss=0.8023\n",
            "Epoch 11/30 — train_acc=0.7025 train_loss=0.8544 | val_acc=0.7210 val_loss=0.8251\n",
            "Epoch 12/30 — train_acc=0.7096 train_loss=0.8304 | val_acc=0.7174 val_loss=0.8342\n",
            "Epoch 13/30 — train_acc=0.7146 train_loss=0.8226 | val_acc=0.6446 val_loss=1.0428\n",
            "Epoch 14/30 — train_acc=0.7216 train_loss=0.8065 | val_acc=0.7260 val_loss=0.7865\n",
            "Epoch 15/30 — train_acc=0.7260 train_loss=0.7885 | val_acc=0.7284 val_loss=0.7963\n",
            "Epoch 16/30 — train_acc=0.7905 train_loss=0.6006 | val_acc=0.8060 val_loss=0.5634\n",
            "Epoch 17/30 — train_acc=0.8129 train_loss=0.5414 | val_acc=0.8144 val_loss=0.5459\n",
            "Epoch 18/30 — train_acc=0.8190 train_loss=0.5196 | val_acc=0.8136 val_loss=0.5492\n",
            "Epoch 19/30 — train_acc=0.8252 train_loss=0.5007 | val_acc=0.8242 val_loss=0.5285\n",
            "Epoch 20/30 — train_acc=0.8308 train_loss=0.4850 | val_acc=0.8228 val_loss=0.5209\n",
            "Epoch 21/30 — train_acc=0.8355 train_loss=0.4751 | val_acc=0.8168 val_loss=0.5270\n",
            "Epoch 22/30 — train_acc=0.8406 train_loss=0.4605 | val_acc=0.8254 val_loss=0.5237\n",
            "Epoch 23/30 — train_acc=0.8508 train_loss=0.4249 | val_acc=0.8366 val_loss=0.4913\n",
            "Epoch 24/30 — train_acc=0.8559 train_loss=0.4131 | val_acc=0.8358 val_loss=0.4919\n",
            "Epoch 25/30 — train_acc=0.8556 train_loss=0.4106 | val_acc=0.8352 val_loss=0.4892\n",
            "Epoch 26/30 — train_acc=0.8612 train_loss=0.4007 | val_acc=0.8360 val_loss=0.4897\n",
            "Epoch 27/30 — train_acc=0.8615 train_loss=0.3991 | val_acc=0.8358 val_loss=0.4880\n",
            "Epoch 28/30 — train_acc=0.8607 train_loss=0.4005 | val_acc=0.8408 val_loss=0.4803\n",
            "Epoch 29/30 — train_acc=0.8639 train_loss=0.3925 | val_acc=0.8376 val_loss=0.4820\n",
            "Epoch 30/30 — train_acc=0.8639 train_loss=0.3919 | val_acc=0.8376 val_loss=0.4823\n",
            "[Saved] accuracy & loss plots to /content/drive/MyDrive/wemem_results (dpi=600)\n"
          ]
        }
      ]
    },
    {
      "cell_type": "code",
      "source": [
        "# Step D: compute predictions on test set and save colorful confusion matrices\n",
        "# Make sure 'testloader' is defined and 'class_names' list is available\n",
        "\n",
        "# Example class names for CIFAR-10\n",
        "class_names = ['airplane','automobile','bird','cat','deer','dog','frog','horse','ship','truck']\n",
        "\n",
        "y_true, y_pred = get_preds_and_labels(model, testloader, device=device)\n",
        "\n",
        "# Save normalized confusion matrix (row-normalized: per true-class percentages)\n",
        "plot_confusion_matrix(y_true, y_pred, class_names, out_dir=OUT_DIR, prefix=\"confmat_test\", normalize=\"true\", cmap=\"rocket\", figsize=(7,6), dpi_save=600)\n",
        "\n",
        "# Also save raw counts (helpful for appendix)\n",
        "plot_confusion_matrix(y_true, y_pred, class_names, out_dir=OUT_DIR, prefix=\"confmat_test_counts\", normalize=None, cmap=\"magma\", figsize=(7,6), dpi_save=600, fmt=\"d\")\n"
      ],
      "metadata": {
        "colab": {
          "base_uri": "https://localhost:8080/"
        },
        "id": "abct1DxWtPa4",
        "outputId": "5b33ab47-9191-4666-c945-4f0ad913c4a1"
      },
      "execution_count": 29,
      "outputs": [
        {
          "output_type": "stream",
          "name": "stdout",
          "text": [
            "[Saved] confusion matrix to /content/drive/MyDrive/wemem_results/confmat_test_true.png/.pdf (dpi=600)\n",
            "[Saved] confusion matrix to /content/drive/MyDrive/wemem_results/confmat_test_counts_None.png/.pdf (dpi=600)\n"
          ]
        }
      ]
    },
    {
      "cell_type": "code",
      "source": [],
      "metadata": {
        "id": "LTKuxqvitPeR"
      },
      "execution_count": null,
      "outputs": []
    },
    {
      "cell_type": "code",
      "source": [],
      "metadata": {
        "id": "WHnMQP2TtPgc"
      },
      "execution_count": null,
      "outputs": []
    }
  ]
}